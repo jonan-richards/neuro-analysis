{
 "cells": [
  {
   "attachments": {},
   "cell_type": "markdown",
   "metadata": {},
   "source": [
    "# Exercises"
   ]
  },
  {
   "attachments": {},
   "cell_type": "markdown",
   "metadata": {},
   "source": [
    "## Exercise 2\n",
    "---\n",
    "In the loop implementation of the decoder, we used `poisson.logpmf(k,mu)` to calculate the log probability of observing $k$ spikes given an average firing rate of $\\mu$. \n",
    "This is mathematically equivalent to `np.log(poisson.pmf(k,mu))`, in which we calculate the probability, and then take the log.\n",
    "\n",
    "\n",
    "Re-run the decoding substituting this expression:\n",
    "\n",
    "```\n",
    "posterior[i] = sum(np.log(poisson.pmf(spikes_count[t_bin,:],firing_rate_maps[:,i]/fps)+pow(1,-15)))\n",
    "```\n",
    "\n",
    "To the line we are using to calculate the posterior.\n",
    "Do you see any difference in the results? What do you think this is due to?\n",
    "\n",
    "\n"
   ]
  },
  {
   "attachments": {},
   "cell_type": "markdown",
   "metadata": {},
   "source": [
    "### Answer\n",
    "\n",
    "By using `np.log(poisson.pmf(k,mu))` instead of `poisson.logpmf(k,mu)`,  the median error increases from ~3.4cm to ~6.4cm. When plotting the decoded position next to the true position, it is clear that `np.log(poisson.pmf(k,mu))` wrongly decodes the position as the first bin much more often than `np.log(poisson.pmf(k,mu))` does. This difference is due to the term `pow(1,-15)` being added after the `log` operation in the original version, but before the `log` operation in the modified version. In order to fix this, `+ pow(1,-15)` has to be added after the `log` operation, and the warning given by taking the logarithm of 0 can be ignored."
   ]
  }
 ],
 "metadata": {
  "kernelspec": {
   "display_name": "Python 3.8.8 ('base')",
   "language": "python",
   "name": "python3"
  },
  "language_info": {
   "codemirror_mode": {
    "name": "ipython",
    "version": 3
   },
   "file_extension": ".py",
   "mimetype": "text/x-python",
   "name": "python",
   "nbconvert_exporter": "python",
   "pygments_lexer": "ipython3",
   "version": "3.8.8"
  },
  "vscode": {
   "interpreter": {
    "hash": "ec757111aa82fc412dab5a41ba1a33fdb6db5c8112df3ff06fec0dbff050b412"
   }
  }
 },
 "nbformat": 4,
 "nbformat_minor": 4
}
