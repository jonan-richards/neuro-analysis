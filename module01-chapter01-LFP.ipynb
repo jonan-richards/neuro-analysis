{
 "cells": [
  {
   "cell_type": "markdown",
   "metadata": {},
   "source": [
    "# Exercises"
   ]
  },
  {
   "cell_type": "markdown",
   "metadata": {
    "tags": []
   },
   "source": [
    "import matplotlib.pyplot as plt\n",
    "import seaborn as sns\n",
    "import pickle\n",
    "import numpy as np\n",
    "import sys\n",
    "sys.path.append('../../AchimBrinkop/Neuro-Analysis/01-local_field_potential/code/')\n",
    "import lfp_functions as lf\n",
    "\n",
    "sns.set_theme(context='notebook',style='white',font_scale=1.5,\n",
    "              rc = {'axes.spines.top':False,'axes.spines.right':False,\n",
    "                     'image.cmap':plt.cm.jet})\n",
    "\n",
    "from scipy.signal import butter\n",
    "from scipy.signal import sosfilt\n",
    "\n",
    "from ipywidgets import interactive\n",
    "import ipywidgets as widgets\n",
    "\n",
    "import math\n",
    "from timeit import default_timer as timer\n",
    "\n",
    "from pywt import scale2frequency\n",
    "from pywt import cwt\n",
    "\n",
    "from scipy.stats import zscore"
   ]
  },
  {
   "cell_type": "markdown",
   "metadata": {},
   "source": [
    "### FPB comments \n",
    "*you haven't included the \"code\" directory here, so I had to get it somewhere else*"
   ]
  },
  {
   "cell_type": "markdown",
   "metadata": {},
   "source": [
    "## Exercise 1: explore filter parameters\n",
    "---\n",
    "In this exercises you will explore how different parameters affect the filtering process.\n",
    "- Import the data form `data/moving_lfp.pickle`\n",
    "- Take a few seconds of the data, and filter them in different frequency bands. Plot the resulting singal.\n",
    "  Try and fix a central frequency and play with the width of the band, then try to change the central frequency of the band.\n",
    "- Try to change the order of the filter, for a fixed frequency band. How does the filtered signal change? How does the computing time change? (You can try to quantify the computing time with the jupyter magic commeand [`%timeit`](https://docs.python.org/3/library/timeit.html) )\n",
    "- Comment on what you see"
   ]
  },
  {
   "cell_type": "code",
   "execution_count": 4,
   "metadata": {
    "tags": []
   },
   "outputs": [
    {
     "data": {
      "application/vnd.jupyter.widget-view+json": {
       "model_id": "cc80f7d3df594b4ea223da3d4ebbae0a",
       "version_major": 2,
       "version_minor": 0
      },
      "text/plain": [
       "interactive(children=(IntSlider(value=100, description='center', max=499, min=1), IntSlider(value=50, descript…"
      ]
     },
     "execution_count": 4,
     "metadata": {},
     "output_type": "execute_result"
    }
   ],
   "source": [
    "# Load data\n",
    "with open('../../AchimBrinkop/Neuro-Analysis/01-local_field_potential/data/moving_lfp.pickle', 'rb') as handle:\n",
    "    lfp_data = pickle.load(handle)\n",
    "\n",
    "sampling_rate = lfp_data['sampling_rate']\n",
    "signal_start, signal_end = 0, 2\n",
    "lfp = lfp_data['lfp'][math.floor(signal_start * sampling_rate):math.ceil(signal_end * sampling_rate)]\n",
    "\n",
    "# Adapted from local-field-potention.ipynb\n",
    "def plot_filtered_signal(center, width, order):\n",
    "    # Determine the frequency band, taking into concern a minimum of 1 Hz and a maximum of sampling_rate / 2 - 1 Hz\n",
    "    band = [math.floor(max(center - width / 2, 1)), math.ceil(min(center + width / 2, sampling_rate / 2 - 1))]\n",
    "\n",
    "    filter = butter(\n",
    "        order,\n",
    "        band,\n",
    "        btype='band', \n",
    "        output='sos', \n",
    "        fs=sampling_rate\n",
    "    )\n",
    "\n",
    "    timer_start = timer()\n",
    "\n",
    "    # Apply filter to lfp       \n",
    "    wideband_lfp = sosfilt(filter, lfp)\n",
    "\n",
    "    timer_end = timer()\n",
    "\n",
    "    print(f'Frequency band: {band}')\n",
    "    print(f'Processing time: {(timer_end - timer_start) * 1000}ms')\n",
    "\n",
    "    plt.figure(figsize=(10,5))\n",
    "    X = np.linspace(signal_start, signal_end, math.ceil((signal_end - signal_start) * sampling_rate))\n",
    "    plt.plot(X, lfp, label='raw signal')\n",
    "    plt.plot(X, wideband_lfp, label = 'wideband filtered')\n",
    "    plt.xlabel('time (s)')\n",
    "    plt.ylabel('voltage (mV)')\n",
    "\n",
    "interactive_plot = interactive(\n",
    "    plot_filtered_signal, \n",
    "    center=widgets.IntSlider(min=1, max=math.floor(sampling_rate / 2) - 1, value=100),\n",
    "    width=widgets.IntSlider(min=1, max=math.floor(sampling_rate / 2) - 1, value=50),\n",
    "    order=widgets.IntSlider(min=1, max=99, value=5),\n",
    ")\n",
    "\n",
    "# Adapted from https://ipywidgets.readthedocs.io/en/7.6.2/examples/Using%20Interact.html\n",
    "output = interactive_plot.children[-1]\n",
    "output.layout.height = '600px'\n",
    "interactive_plot"
   ]
  },
  {
   "cell_type": "markdown",
   "metadata": {},
   "source": [
    "When changing the values for the center and width of the frequency band, a few observations can be made. First of all, increasing the band width tends to increase the complexity of the filtered signal. This makes sense, as this increases the number of frequencies that contribute to this signal. Another observation, made when keeping the band width low (around 1 or 2) and changing the frequency is that the lower frequencies tend to contribute more to the signal than higher frequencies (i.e. they have a higher amplitude). Increasing the order of the filter while keeping the frequency band fixed increases the processing time seemingly linearly, from  0.09ms at an order of 1, 0.30ms at 50, and 0.59ms at 99. Additionally it seems to delay the onset and phase of filtered signal. Increasing the order to very high values seems to make the filter instable, as some random combinations of band center and width can make the filtered signal grow to many times the amplitude of the raw signal, or completely vanish."
   ]
  },
  {
   "cell_type": "markdown",
   "metadata": {},
   "source": [
    "### FPB Comments\n",
    "very nicely done and the sliders are cool. We should have told you to use `sosfiltfilt` instead of `sosfilt` in order to avoid the order and passband-dependent phase shift, that would make the comparisons a little smoother. Grade: 9"
   ]
  },
  {
   "cell_type": "markdown",
   "metadata": {},
   "source": [
    "## Exercise 2: wavelet transform with real wavelets\n",
    "---\n",
    "In this exercises you will explore the difference between real and complex wavelets in the continous wavelet transform.\n",
    "- Import the data form `data/moving_lfp.pickle`\n",
    "- Select a period of a few seconds of the signal and compute the spectrogram. \n",
    "  Try the wavelet transform with wavelet `mexh` (mexican hat),`gaus` (gaussian) and `morl` (morlet). this are all real wavelet.\n",
    "- How does the spectrum look different from what we computed with a complex Morlet tranform ? Comment on why do you think this might be the case."
   ]
  },
  {
   "cell_type": "code",
   "execution_count": 6,
   "metadata": {
    "tags": []
   },
   "outputs": [
    {
     "data": {
      "application/vnd.jupyter.widget-view+json": {
       "model_id": "91094f238cc543058c2b6ac75b6cb229",
       "version_major": 2,
       "version_minor": 0
      },
      "text/plain": [
       "interactive(children=(Dropdown(description='wavelet', options=(('Complex Morlet', 'cmor1.0-1.0'), ('Mexican ha…"
      ]
     },
     "execution_count": 6,
     "metadata": {},
     "output_type": "execute_result"
    }
   ],
   "source": [
    "# Load data\n",
    "with open('../../AchimBrinkop/Neuro-Analysis/01-local_field_potential/data/moving_lfp.pickle', 'rb') as handle:\n",
    "    lfp_data = pickle.load(handle)\n",
    "\n",
    "sampling_rate = lfp_data['sampling_rate']\n",
    "signal_start, signal_end = 0, 2\n",
    "lfp = lfp_data['lfp']\n",
    "signal = lfp[math.floor(signal_start * sampling_rate):math.ceil(signal_end * sampling_rate)]\n",
    "signal = signal - np.mean(signal) # get rid of 0 frequency component\n",
    "\n",
    "# Adapted from local-field-potention.ipynb\n",
    "def plot_wavelet(wavelet):\n",
    "    frequencies =  np.linspace(0.1, 20, 100) / sampling_rate\n",
    "    scales = scale2frequency(wavelet, frequencies)\n",
    "    cwtmatr, _ = cwt(signal, wavelet=wavelet, scales=scales,\n",
    "                    sampling_period=1.0/sampling_rate)\n",
    "    plt.figure(figsize=(10,5))\n",
    "    plt.imshow(abs(cwtmatr)**2, extent=[signal_start, signal_end, frequencies[-1] * sampling_rate,\n",
    "    frequencies[0] * sampling_rate], aspect='auto', cmap='viridis')\n",
    "\n",
    "interactive_plot = interactive(\n",
    "    plot_wavelet, \n",
    "    wavelet=widgets.Dropdown(\n",
    "        options=[\n",
    "            ('Complex Morlet', 'cmor1.0-1.0'), \n",
    "            ('Mexican hat', 'mexh'), \n",
    "            ('Gaussian', 'gaus1'), \n",
    "            ('Morlet', 'morl')\n",
    "        ]\n",
    "    ),\n",
    ")\n",
    "\n",
    "# Adapted from https://ipywidgets.readthedocs.io/en/7.6.2/examples/Using%20Interact.html\n",
    "output = interactive_plot.children[-1]\n",
    "output.layout.height = '450px'\n",
    "interactive_plot"
   ]
  },
  {
   "cell_type": "markdown",
   "metadata": {},
   "source": [
    "Using real wavelets for the transform creates an noticeable alternating pattern on the X-axis (in the temporal domain), which the complex Morlet wavelet does not. I suspect this might be the case due to real wavelets being sensitive to the phase of the frequencies contributing to the signal, while the complex wavelets take into account the envelope of these frequencies without being affected by the phase."
   ]
  },
  {
   "cell_type": "markdown",
   "metadata": {},
   "source": [
    "### FPB Comments \n",
    "Code is OK. Please add axis labels and colorbar, comments are correct. Grade: 8"
   ]
  },
  {
   "cell_type": "markdown",
   "metadata": {},
   "source": [
    "## Exercise 3: REM sleep detection\n",
    "---\n",
    "Mammalian sleep is organized in different phases. [Rapid Eye Movement (REM) sleep](https://en.wikipedia.org/wiki/Rapid_eye_movement_sleep) is a well studied phase, with clear markers that make it detectable from LFP data. One of the most used marker is the ratio (or difference) between the oscillatory power in the theta and delta bands in the hippocampus. During REM sleep, the former dominates, in a pattern that resembles active behaviour.  \n",
    "In this exercise we will use the tools we learned about to detect and inspect the REM and non-REM (nREM) phases of sleep in data recorded from the hippocampus of a sleeping mouse.\n",
    "\n",
    "- Import the data form `data/moving_lfp.pickle`\n",
    "- Compute the instantaneous power in the theta (6-10 Hz) and delta (2-4 Hz) frequency bands, for the whole signal.\n",
    "- z-score the two power signals (subtract the mean and divide by the standard deviation, you can use `scipy.stats.zscore()`)\n",
    "- Compute and plot the power difference (`theta_power - delta_power`) for the sleep session.\n",
    "- Compute the REM (power difference $>0.2$) and nREM (power diffewrence $<0.2$) sleep periods.\n",
    "- Plot examples of REM vs nREM lfp signals (wideband filtered betw. 1 and 200 Hz to get rid of some of the noise).\n",
    "- Explore how changing the threshold affects the amount of REM sleep detected."
   ]
  },
  {
   "cell_type": "code",
   "execution_count": 7,
   "metadata": {
    "tags": []
   },
   "outputs": [
    {
     "data": {
      "application/vnd.jupyter.widget-view+json": {
       "model_id": "0ea6e5cdafef47449d53304f6839615e",
       "version_major": 2,
       "version_minor": 0
      },
      "text/plain": [
       "interactive(children=(FloatSlider(value=0.2, description='threshold', max=4.0, min=-6.0), Output(layout=Layout…"
      ]
     },
     "execution_count": 7,
     "metadata": {},
     "output_type": "execute_result"
    }
   ],
   "source": [
    "# Load data\n",
    "with open('../../AchimBrinkop/Neuro-Analysis/01-local_field_potential/data/moving_lfp.pickle', 'rb') as handle:\n",
    "    lfp_data = pickle.load(handle)\n",
    "\n",
    "sampling_rate = lfp_data['sampling_rate']\n",
    "signal_start, signal_end = 0, 10\n",
    "lfp = lfp_data['lfp']\n",
    "signal = lfp[math.floor(signal_start * sampling_rate):math.ceil(signal_end * sampling_rate)]\n",
    "signal = signal - np.mean(signal) # get rid of 0 frequency component\n",
    "\n",
    "# Adapted from local-field-potention.ipynb\n",
    "def plot_rem(threshold):\n",
    "    bands = {\n",
    "        'theta': [6, 10],\n",
    "        'delta': [2, 4]\n",
    "    }\n",
    "    powers_zscored = {}\n",
    "\n",
    "    for name, band in bands.items():\n",
    "        frequencies =  np.linspace(band[0], band[1], 50) / sampling_rate\n",
    "        wavelet = 'cmor1.0-1.0'\n",
    "        scales = scale2frequency(wavelet, frequencies)\n",
    "        cwtmatr, _ = cwt(signal, wavelet=wavelet, scales=scales,\n",
    "                        sampling_period=1.0/sampling_rate)\n",
    "\n",
    "        power = np.mean(abs(cwtmatr)**2,axis=0)\n",
    "        powers_zscored[name] = zscore(power)\n",
    "\n",
    "    power_diff = powers_zscored['theta'] - powers_zscored['delta']\n",
    "\n",
    "    # Plot the power difference\n",
    "    plt.figure(figsize=(10,5))\n",
    "    plt.plot(np.linspace(signal_start, signal_end, len(power_diff)), power_diff)\n",
    "    plt.axhline(threshold, linestyle='dashed', color='orange', label='threshold')\n",
    "    plt.xlabel('time (s)')\n",
    "    plt.ylabel('power difference (a.u.)')\n",
    "    plt.legend()\n",
    "\n",
    "    # Compute REM and nREM periods\n",
    "    rem_periods = period_idxs(power_diff > threshold)\n",
    "    nrem_periods = period_idxs(power_diff < threshold)\n",
    "\n",
    "    lfp_filtered = lf.bandpass_filter(lfp, low_f=1, high_f=200, sampling_rate=sampling_rate)\n",
    "    signal_samples = (signal_end - signal_start) * sampling_rate\n",
    "\n",
    "    rem_pct = sum([len(period) for period in rem_periods]) / signal_samples\n",
    "    print(f'Found {len(rem_periods)} REM periods, totalling {rem_pct:.2%} of the signal')\n",
    "    plot_examples(lfp_filtered, rem_periods[:2], 'REM')\n",
    "\n",
    "    nrem_pct = sum([len(period) for period in nrem_periods]) / signal_samples\n",
    "    print(f'Found {len(nrem_periods)} nREM periods, totalling {nrem_pct:.2%} of the signal')\n",
    "    plot_examples(lfp_filtered, nrem_periods[:2], 'nREM')\n",
    "\n",
    "# Adapted from local-field-potention.ipynb\n",
    "def period_idxs(period_mask):\n",
    "    '''\n",
    "    Takes logical period mask and returns a list of arrays. Each array correspond to a period\n",
    "    and contains its time idxs (relative to the provided period mask)\n",
    "    '''\n",
    "    period_starts = []\n",
    "    period_ends = []\n",
    "    for i in range(1, len(period_mask)):\n",
    "        if not period_mask[i - 1] and period_mask[i]:\n",
    "            period_starts.append(i)\n",
    "        if period_mask[i - 1] and not period_mask[i]:\n",
    "            period_ends.append(i)\n",
    "\n",
    "    # handle edge cases\n",
    "    if not len(period_ends) == 0 and (len(period_starts) == 0 or period_ends[0] < period_starts[0]):\n",
    "        period_starts = [0] + period_starts  # if session starts with a period\n",
    "\n",
    "    if not len(period_starts) == 0 and (len(period_ends) == 0 or period_starts[-1] > period_ends[-1]):\n",
    "        period_ends.append(len(period_mask))  # if session ends with a period\n",
    "\n",
    "    if len(period_starts) == 0 and len(period_ends) == 0 and len(period_mask) != 0 and period_mask[0]:\n",
    "        period_starts = [0] # if full session is one period\n",
    "        period_ends = [len(period_mask)] \n",
    "\n",
    "    periods = [np.arange(period_starts[i], period_ends[i])\n",
    "               for i in range(len(period_starts))]\n",
    "\n",
    "    return periods\n",
    "\n",
    "def plot_examples(lfp_filtered, periods, title):\n",
    "    fig = plt.figure(figsize=(len(periods) * 5, 5))\n",
    "    fig.suptitle(f'Examples of {title} periods')\n",
    "\n",
    "    for i, period in enumerate(periods):\n",
    "        start, end = period[0], period[-1]\n",
    "        \n",
    "        length = end - start\n",
    "        plot_margin_start, plot_margin_end = min(start, 30), min(len(lfp_filtered - end), 30)\n",
    "\n",
    "        plt.subplot(1, len(periods), i + 1)\n",
    "        x = np.arange(-plot_margin_start, length + plot_margin_end)\n",
    "        y = lfp_filtered[start - plot_margin_start:end + plot_margin_end]\n",
    "        plt.plot(x, y)\n",
    "        plt.axvline(x=0, linestyle='--', c='green', label='detected onset')\n",
    "        plt.axvline(x=length, linestyle='--', c='red', label='detected end')\n",
    "        plt.xlabel('time from onset (ms)')\n",
    "        plt.ylabel('lfp')\n",
    "        plt.legend()\n",
    "        plt.tight_layout()\n",
    "\n",
    "interactive_plot = interactive(\n",
    "    plot_rem, \n",
    "    threshold=widgets.FloatSlider(min=-6, max=4, value=0.2),\n",
    ")\n",
    "\n",
    "# Adapted from https://ipywidgets.readthedocs.io/en/7.6.2/examples/Using%20Interact.html\n",
    "output = interactive_plot.children[-1]\n",
    "output.layout.height = '600px'\n",
    "interactive_plot"
   ]
  },
  {
   "cell_type": "markdown",
   "metadata": {},
   "source": [
    "Increasing the threshold leads to a smaller portion of the signal being detected as REM sleep, while decreasing the threshold leads to a larger portion of the signal being detected as REM sleep. With a threshold of -2, 88% of the signal is categorized as REM sleep, in contrast with only 7% at a threshold of 2."
   ]
  },
  {
   "cell_type": "markdown",
   "metadata": {},
   "source": [
    "### FPB comments\n",
    "Code is correct, we should have suggested you to operate a smoothing on the statistics, as NREM and REM periods typically are many seconds. Here you are mostly looking at fluctuations, but this is on us. Grade: 9"
   ]
  },
  {
   "cell_type": "code",
   "execution_count": null,
   "metadata": {},
   "outputs": [],
   "source": []
  }
 ],
 "metadata": {
  "kernelspec": {
   "display_name": "Python 3 (ipykernel)",
   "language": "python",
   "name": "python3"
  },
  "language_info": {
   "codemirror_mode": {
    "name": "ipython",
    "version": 3
   },
   "file_extension": ".py",
   "mimetype": "text/x-python",
   "name": "python",
   "nbconvert_exporter": "python",
   "pygments_lexer": "ipython3",
   "version": "3.10.10"
  },
  "vscode": {
   "interpreter": {
    "hash": "31f2aee4e71d21fbe5cf8b01ff0e069b9275f58929596ceb00d14d90e3e16cd6"
   }
  }
 },
 "nbformat": 4,
 "nbformat_minor": 4
}
